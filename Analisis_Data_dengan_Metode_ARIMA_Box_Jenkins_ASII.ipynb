{
  "nbformat": 4,
  "nbformat_minor": 0,
  "metadata": {
    "colab": {
      "name": "Analisis Data dengan Metode ARIMA Box-Jenkins ASII",
      "provenance": [],
      "authorship_tag": "ABX9TyOuuU0mXkLnBVtcIU+he6sl",
      "include_colab_link": true
    },
    "kernelspec": {
      "name": "python3",
      "display_name": "Python 3"
    },
    "language_info": {
      "name": "python"
    }
  },
  "cells": [
    {
      "cell_type": "markdown",
      "metadata": {
        "id": "view-in-github",
        "colab_type": "text"
      },
      "source": [
        "<a href=\"https://colab.research.google.com/github/haasyawafda/ARIMA_Using_Python/blob/main/Analisis_Data_dengan_Metode_ARIMA_Box_Jenkins_ASII.ipynb\" target=\"_parent\"><img src=\"https://colab.research.google.com/assets/colab-badge.svg\" alt=\"Open In Colab\"/></a>"
      ]
    },
    {
      "cell_type": "code",
      "execution_count": 1,
      "metadata": {
        "id": "kvRZRAoRjiAK"
      },
      "outputs": [],
      "source": [
        "#Analisis data time series dengan metode ARIMA (p,d,q)\n",
        "#Haasya wafdayanti\n",
        "#Department of Statistics, Diponegoro University"
      ]
    },
    {
      "cell_type": "code",
      "source": [
        "#Paket yang diperlukan\n",
        "import pandas as pd\n",
        "import numpy as np"
      ],
      "metadata": {
        "id": "kkGLbQVQ37eS"
      },
      "execution_count": 13,
      "outputs": []
    },
    {
      "cell_type": "code",
      "source": [
        "#Memanggil data sebelumnya data yang sudah di upload pada situs Github.com sebagai berikut:\n",
        "data=pd.read_csv('https://raw.githubusercontent.com/haasyawafda/ARIMA_Using_Python/main/ASII%202021.csv',sep=';')\n",
        "\n",
        "#Menampilkan 5 data pertama\n",
        "data.head()  "
      ],
      "metadata": {
        "colab": {
          "base_uri": "https://localhost:8080/",
          "height": 206
        },
        "id": "xFtmPFYc3-Vm",
        "outputId": "180bed36-74d0-43f0-cdee-48d0742135c3"
      },
      "execution_count": 15,
      "outputs": [
        {
          "output_type": "execute_result",
          "data": {
            "text/plain": [
              "      Tanggal  Terakhir\n",
              "0  01/07/2021     5.025\n",
              "1  02/07/2021     5.000\n",
              "2  05/07/2021     4.940\n",
              "3  06/07/2021     4.900\n",
              "4  07/07/2021     4.900"
            ],
            "text/html": [
              "\n",
              "  <div id=\"df-3a75c11e-3eca-428f-8473-a3976d184715\">\n",
              "    <div class=\"colab-df-container\">\n",
              "      <div>\n",
              "<style scoped>\n",
              "    .dataframe tbody tr th:only-of-type {\n",
              "        vertical-align: middle;\n",
              "    }\n",
              "\n",
              "    .dataframe tbody tr th {\n",
              "        vertical-align: top;\n",
              "    }\n",
              "\n",
              "    .dataframe thead th {\n",
              "        text-align: right;\n",
              "    }\n",
              "</style>\n",
              "<table border=\"1\" class=\"dataframe\">\n",
              "  <thead>\n",
              "    <tr style=\"text-align: right;\">\n",
              "      <th></th>\n",
              "      <th>Tanggal</th>\n",
              "      <th>Terakhir</th>\n",
              "    </tr>\n",
              "  </thead>\n",
              "  <tbody>\n",
              "    <tr>\n",
              "      <th>0</th>\n",
              "      <td>01/07/2021</td>\n",
              "      <td>5.025</td>\n",
              "    </tr>\n",
              "    <tr>\n",
              "      <th>1</th>\n",
              "      <td>02/07/2021</td>\n",
              "      <td>5.000</td>\n",
              "    </tr>\n",
              "    <tr>\n",
              "      <th>2</th>\n",
              "      <td>05/07/2021</td>\n",
              "      <td>4.940</td>\n",
              "    </tr>\n",
              "    <tr>\n",
              "      <th>3</th>\n",
              "      <td>06/07/2021</td>\n",
              "      <td>4.900</td>\n",
              "    </tr>\n",
              "    <tr>\n",
              "      <th>4</th>\n",
              "      <td>07/07/2021</td>\n",
              "      <td>4.900</td>\n",
              "    </tr>\n",
              "  </tbody>\n",
              "</table>\n",
              "</div>\n",
              "      <button class=\"colab-df-convert\" onclick=\"convertToInteractive('df-3a75c11e-3eca-428f-8473-a3976d184715')\"\n",
              "              title=\"Convert this dataframe to an interactive table.\"\n",
              "              style=\"display:none;\">\n",
              "        \n",
              "  <svg xmlns=\"http://www.w3.org/2000/svg\" height=\"24px\"viewBox=\"0 0 24 24\"\n",
              "       width=\"24px\">\n",
              "    <path d=\"M0 0h24v24H0V0z\" fill=\"none\"/>\n",
              "    <path d=\"M18.56 5.44l.94 2.06.94-2.06 2.06-.94-2.06-.94-.94-2.06-.94 2.06-2.06.94zm-11 1L8.5 8.5l.94-2.06 2.06-.94-2.06-.94L8.5 2.5l-.94 2.06-2.06.94zm10 10l.94 2.06.94-2.06 2.06-.94-2.06-.94-.94-2.06-.94 2.06-2.06.94z\"/><path d=\"M17.41 7.96l-1.37-1.37c-.4-.4-.92-.59-1.43-.59-.52 0-1.04.2-1.43.59L10.3 9.45l-7.72 7.72c-.78.78-.78 2.05 0 2.83L4 21.41c.39.39.9.59 1.41.59.51 0 1.02-.2 1.41-.59l7.78-7.78 2.81-2.81c.8-.78.8-2.07 0-2.86zM5.41 20L4 18.59l7.72-7.72 1.47 1.35L5.41 20z\"/>\n",
              "  </svg>\n",
              "      </button>\n",
              "      \n",
              "  <style>\n",
              "    .colab-df-container {\n",
              "      display:flex;\n",
              "      flex-wrap:wrap;\n",
              "      gap: 12px;\n",
              "    }\n",
              "\n",
              "    .colab-df-convert {\n",
              "      background-color: #E8F0FE;\n",
              "      border: none;\n",
              "      border-radius: 50%;\n",
              "      cursor: pointer;\n",
              "      display: none;\n",
              "      fill: #1967D2;\n",
              "      height: 32px;\n",
              "      padding: 0 0 0 0;\n",
              "      width: 32px;\n",
              "    }\n",
              "\n",
              "    .colab-df-convert:hover {\n",
              "      background-color: #E2EBFA;\n",
              "      box-shadow: 0px 1px 2px rgba(60, 64, 67, 0.3), 0px 1px 3px 1px rgba(60, 64, 67, 0.15);\n",
              "      fill: #174EA6;\n",
              "    }\n",
              "\n",
              "    [theme=dark] .colab-df-convert {\n",
              "      background-color: #3B4455;\n",
              "      fill: #D2E3FC;\n",
              "    }\n",
              "\n",
              "    [theme=dark] .colab-df-convert:hover {\n",
              "      background-color: #434B5C;\n",
              "      box-shadow: 0px 1px 3px 1px rgba(0, 0, 0, 0.15);\n",
              "      filter: drop-shadow(0px 1px 2px rgba(0, 0, 0, 0.3));\n",
              "      fill: #FFFFFF;\n",
              "    }\n",
              "  </style>\n",
              "\n",
              "      <script>\n",
              "        const buttonEl =\n",
              "          document.querySelector('#df-3a75c11e-3eca-428f-8473-a3976d184715 button.colab-df-convert');\n",
              "        buttonEl.style.display =\n",
              "          google.colab.kernel.accessAllowed ? 'block' : 'none';\n",
              "\n",
              "        async function convertToInteractive(key) {\n",
              "          const element = document.querySelector('#df-3a75c11e-3eca-428f-8473-a3976d184715');\n",
              "          const dataTable =\n",
              "            await google.colab.kernel.invokeFunction('convertToInteractive',\n",
              "                                                     [key], {});\n",
              "          if (!dataTable) return;\n",
              "\n",
              "          const docLinkHtml = 'Like what you see? Visit the ' +\n",
              "            '<a target=\"_blank\" href=https://colab.research.google.com/notebooks/data_table.ipynb>data table notebook</a>'\n",
              "            + ' to learn more about interactive tables.';\n",
              "          element.innerHTML = '';\n",
              "          dataTable['output_type'] = 'display_data';\n",
              "          await google.colab.output.renderOutput(dataTable, element);\n",
              "          const docLink = document.createElement('div');\n",
              "          docLink.innerHTML = docLinkHtml;\n",
              "          element.appendChild(docLink);\n",
              "        }\n",
              "      </script>\n",
              "    </div>\n",
              "  </div>\n",
              "  "
            ]
          },
          "metadata": {},
          "execution_count": 15
        }
      ]
    },
    {
      "cell_type": "code",
      "source": [
        "#setting Bulan sebagai datetime\n",
        "data.set_index('Tanggal',inplace=True)"
      ],
      "metadata": {
        "id": "rjtWcOyZ4fQq"
      },
      "execution_count": 16,
      "outputs": []
    },
    {
      "cell_type": "code",
      "source": [
        "#melakukan plot data\n",
        "dataarima=data['Terakhir']\n",
        "data.plot()"
      ],
      "metadata": {
        "colab": {
          "base_uri": "https://localhost:8080/",
          "height": 296
        },
        "id": "NlsP9RVr4jAr",
        "outputId": "7e121be0-ec68-492d-eafb-f44edc7eb71e"
      },
      "execution_count": 17,
      "outputs": [
        {
          "output_type": "execute_result",
          "data": {
            "text/plain": [
              "<matplotlib.axes._subplots.AxesSubplot at 0x7fcf886cc7d0>"
            ]
          },
          "metadata": {},
          "execution_count": 17
        },
        {
          "output_type": "display_data",
          "data": {
            "text/plain": [
              "<Figure size 432x288 with 1 Axes>"
            ],
            "image/png": "[encoded data removed]"
          },
          "metadata": {
            "needs_background": "light"
          }
        }
      ]
    },
    {
      "cell_type": "code",
      "source": [
        "#Uji stasioneritas dalam varian\n",
        "#Box-Cox Transformation\n",
        "from scipy.stats import boxcox \n",
        "import seaborn as sns\n",
        "\n",
        "#plot distribusi data\n",
        "sns.distplot(dataarima, hist=False, kde=True) "
      ],
      "metadata": {
        "colab": {
          "base_uri": "https://localhost:8080/",
          "height": 351
        },
        "id": "VasW8w-E4pmc",
        "outputId": "1afe1969-bc7b-41bd-aab6-5ed54b53434b"
      },
      "execution_count": 18,
      "outputs": [
        {
          "output_type": "stream",
          "name": "stderr",
          "text": [
            "/usr/local/lib/python3.7/dist-packages/seaborn/distributions.py:2619: FutureWarning: `distplot` is a deprecated function and will be removed in a future version. Please adapt your code to use either `displot` (a figure-level function with similar flexibility) or `kdeplot` (an axes-level function for kernel density plots).\n",
            "  warnings.warn(msg, FutureWarning)\n"
          ]
        },
        {
          "output_type": "execute_result",
          "data": {
            "text/plain": [
              "<matplotlib.axes._subplots.AxesSubplot at 0x7fcf886b83d0>"
            ]
          },
          "metadata": {},
          "execution_count": 18
        },
        {
          "output_type": "display_data",
          "data": {
            "text/plain": [
              "<Figure size 432x288 with 1 Axes>"
            ],
            "image/png": "[encoded data removed]"
          },
          "metadata": {
            "needs_background": "light"
          }
        }
      ]
    },
    {
      "cell_type": "code",
      "source": [
        "#Box-Cox Transformation\n",
        "transform_boxcox, best_lambda = boxcox(dataarima) \n",
        "#melihat nilai lamda\n",
        "print(best_lambda)"
      ],
      "metadata": {
        "colab": {
          "base_uri": "https://localhost:8080/"
        },
        "id": "hC4i6WcC4qb3",
        "outputId": "9a3cde20-a549-4b9c-bb9d-11f3d33fe04a"
      },
      "execution_count": 19,
      "outputs": [
        {
          "output_type": "stream",
          "name": "stdout",
          "text": [
            "0.8808017405528714\n"
          ]
        }
      ]
    },
    {
      "cell_type": "code",
      "source": [
        "#uji visual stasioneritas dalam mean secara Visual\n",
        "dataarima.plot()"
      ],
      "metadata": {
        "colab": {
          "base_uri": "https://localhost:8080/",
          "height": 296
        },
        "id": "70CeZ8P-4yZO",
        "outputId": "92669785-ab1c-4510-a667-b91586d6af2e"
      },
      "execution_count": 20,
      "outputs": [
        {
          "output_type": "execute_result",
          "data": {
            "text/plain": [
              "<matplotlib.axes._subplots.AxesSubplot at 0x7fcf88623990>"
            ]
          },
          "metadata": {},
          "execution_count": 20
        },
        {
          "output_type": "display_data",
          "data": {
            "text/plain": [
              "<Figure size 432x288 with 1 Axes>"
            ],
            "image/png": "[encoded data removed]"
          },
          "metadata": {
            "needs_background": "light"
          }
        }
      ]
    },
    {
      "cell_type": "code",
      "source": [
        "#Uji stasioneritas dalam mean secara formal\n",
        "#Augmented Dicky Fuller\n",
        "from statsmodels.tsa.stattools import adfuller\n",
        "ADF=adfuller(dataarima)\n",
        "\n",
        "#Melihat nilai ADF\n",
        "dict(zip(['adf', 'pvalue', 'usedlag', 'nobs', 'critical' 'values', 'icbest'],ADF))"
      ],
      "metadata": {
        "colab": {
          "base_uri": "https://localhost:8080/"
        },
        "id": "qwEtT4FT5Bc7",
        "outputId": "fca35c61-fdf5-4609-bb34-6c7268b1879d"
      },
      "execution_count": 21,
      "outputs": [
        {
          "output_type": "execute_result",
          "data": {
            "text/plain": [
              "{'adf': -1.215433665291459,\n",
              " 'criticalvalues': {'1%': -3.4837793736959997,\n",
              "  '10%': -2.579256976,\n",
              "  '5%': -2.88495387648},\n",
              " 'icbest': -164.44358441667043,\n",
              " 'nobs': 125,\n",
              " 'pvalue': 0.6669215519868219,\n",
              " 'usedlag': 1}"
            ]
          },
          "metadata": {},
          "execution_count": 21
        }
      ]
    },
    {
      "cell_type": "code",
      "source": [
        "#differencing orde = 1\n",
        "#uji visual\n",
        "diff1 = dataarima.diff().dropna()\n",
        "diff1.plot()"
      ],
      "metadata": {
        "colab": {
          "base_uri": "https://localhost:8080/",
          "height": 296
        },
        "id": "HQw-LMwk5GT4",
        "outputId": "0739b58e-5453-4e64-81d6-2f0a9fc18033"
      },
      "execution_count": 22,
      "outputs": [
        {
          "output_type": "execute_result",
          "data": {
            "text/plain": [
              "<matplotlib.axes._subplots.AxesSubplot at 0x7fcf8858d7d0>"
            ]
          },
          "metadata": {},
          "execution_count": 22
        },
        {
          "output_type": "display_data",
          "data": {
            "text/plain": [
              "<Figure size 432x288 with 1 Axes>"
            ],
            "image/png": "[encoded data removed]"
          },
          "metadata": {
            "needs_background": "light"
          }
        }
      ]
    },
    {
      "cell_type": "code",
      "source": [
        "#Uji stasioneritas dalam mean secara Formal\n",
        "#uji formal\n",
        "print(\"p-value:\", adfuller(diff1.dropna())[1])"
      ],
      "metadata": {
        "colab": {
          "base_uri": "https://localhost:8080/"
        },
        "id": "KN1ISgj45JPo",
        "outputId": "644bd26e-ec17-403f-f6e5-792bfa3e4bed"
      },
      "execution_count": 23,
      "outputs": [
        {
          "output_type": "stream",
          "name": "stdout",
          "text": [
            "p-value: 5.540914080181394e-28\n"
          ]
        }
      ]
    },
    {
      "cell_type": "code",
      "source": [
        "\n",
        "#Plot ACF dan PACF\n",
        "from statsmodels.graphics.tsaplots import plot_acf, plot_pacf\n",
        " \n",
        "ACF=plot_acf(diff1.dropna()) \n",
        "PACF=plot_pacf(diff1.dropna())"
      ],
      "metadata": {
        "colab": {
          "base_uri": "https://localhost:8080/",
          "height": 545
        },
        "id": "wPlQx8_r5LUM",
        "outputId": "fb473f14-bab6-4018-efce-e1a3c605d489"
      },
      "execution_count": 24,
      "outputs": [
        {
          "output_type": "display_data",
          "data": {
            "text/plain": [
              "<Figure size 432x288 with 1 Axes>"
            ],
            "image/png": "[encoded data removed]"
          },
          "metadata": {
            "needs_background": "light"
          }
        },
        {
          "output_type": "display_data",
          "data": {
            "text/plain": [
              "<Figure size 432x288 with 1 Axes>"
            ],
            "image/png": "[encoded data removed]"
          },
          "metadata": {
            "needs_background": "light"
          }
        }
      ]
    },
    {
      "cell_type": "code",
      "source": [
        "#paket yang diperlukan\n",
        "!pip install statsmodels"
      ],
      "metadata": {
        "colab": {
          "base_uri": "https://localhost:8080/"
        },
        "id": "-AXAzDeC5Omm",
        "outputId": "f463b762-f78a-4d13-cfac-dd3759f094d6"
      },
      "execution_count": 25,
      "outputs": [
        {
          "output_type": "stream",
          "name": "stdout",
          "text": [
            "Looking in indexes: https://pypi.org/simple, https://us-python.pkg.dev/colab-wheels/public/simple/\n",
            "Requirement already satisfied: statsmodels in /usr/local/lib/python3.7/dist-packages (0.10.2)\n",
            "Requirement already satisfied: patsy>=0.4.0 in /usr/local/lib/python3.7/dist-packages (from statsmodels) (0.5.2)\n",
            "Requirement already satisfied: numpy>=1.11 in /usr/local/lib/python3.7/dist-packages (from statsmodels) (1.21.6)\n",
            "Requirement already satisfied: pandas>=0.19 in /usr/local/lib/python3.7/dist-packages (from statsmodels) (1.3.5)\n",
            "Requirement already satisfied: scipy>=0.18 in /usr/local/lib/python3.7/dist-packages (from statsmodels) (1.4.1)\n",
            "Requirement already satisfied: pytz>=2017.3 in /usr/local/lib/python3.7/dist-packages (from pandas>=0.19->statsmodels) (2022.1)\n",
            "Requirement already satisfied: python-dateutil>=2.7.3 in /usr/local/lib/python3.7/dist-packages (from pandas>=0.19->statsmodels) (2.8.2)\n",
            "Requirement already satisfied: six in /usr/local/lib/python3.7/dist-packages (from patsy>=0.4.0->statsmodels) (1.15.0)\n"
          ]
        }
      ]
    },
    {
      "cell_type": "code",
      "source": [
        "#ARIMA(1,1,0) ATAU ARI(1,1)\n",
        "from statsmodels.tsa.arima_model import ARIMA\n",
        "model1=ARIMA(dataarima,order=(1,1,0))\n",
        "model1_fit=model1.fit()\n",
        "print(model1_fit.summary())"
      ],
      "metadata": {
        "colab": {
          "base_uri": "https://localhost:8080/"
        },
        "id": "oAYT8ZZC5RyP",
        "outputId": "437a04e9-ddb8-4f38-b4ca-19e61e80aa60"
      },
      "execution_count": 26,
      "outputs": [
        {
          "output_type": "stream",
          "name": "stdout",
          "text": [
            "                             ARIMA Model Results                              \n",
            "==============================================================================\n",
            "Dep. Variable:             D.Terakhir   No. Observations:                  126\n",
            "Model:                 ARIMA(1, 1, 0)   Log Likelihood                  97.675\n",
            "Method:                       css-mle   S.D. of innovations              0.111\n",
            "Date:                Sat, 11 Jun 2022   AIC                           -189.349\n",
            "Time:                        06:15:32   BIC                           -180.841\n",
            "Sample:                             1   HQIC                          -185.892\n",
            "                                                                              \n",
            "====================================================================================\n",
            "                       coef    std err          z      P>|z|      [0.025      0.975]\n",
            "------------------------------------------------------------------------------------\n",
            "const                0.0055      0.008      0.724      0.471      -0.009       0.020\n",
            "ar.L1.D.Terakhir    -0.3046      0.084     -3.605      0.000      -0.470      -0.139\n",
            "                                    Roots                                    \n",
            "=============================================================================\n",
            "                  Real          Imaginary           Modulus         Frequency\n",
            "-----------------------------------------------------------------------------\n",
            "AR.1           -3.2831           +0.0000j            3.2831            0.5000\n",
            "-----------------------------------------------------------------------------\n"
          ]
        },
        {
          "output_type": "stream",
          "name": "stderr",
          "text": [
            "/usr/local/lib/python3.7/dist-packages/statsmodels/tsa/base/tsa_model.py:219: ValueWarning: A date index has been provided, but it has no associated frequency information and so will be ignored when e.g. forecasting.\n",
            "  ' ignored when e.g. forecasting.', ValueWarning)\n",
            "/usr/local/lib/python3.7/dist-packages/statsmodels/tsa/base/tsa_model.py:219: ValueWarning: A date index has been provided, but it has no associated frequency information and so will be ignored when e.g. forecasting.\n",
            "  ' ignored when e.g. forecasting.', ValueWarning)\n"
          ]
        }
      ]
    },
    {
      "cell_type": "code",
      "source": [
        "#ARIMA(0,1,1) ATAU IMA(1,1)\n",
        "model2=ARIMA(dataarima,order=(0,1,1))\n",
        "model2_fit=model2.fit()\n",
        "print(model2_fit.summary())"
      ],
      "metadata": {
        "colab": {
          "base_uri": "https://localhost:8080/"
        },
        "id": "RN0wfxe15UhG",
        "outputId": "ecd3e807-94db-4ed1-d2bf-eee77cd8cc7e"
      },
      "execution_count": 27,
      "outputs": [
        {
          "output_type": "stream",
          "name": "stdout",
          "text": [
            "                             ARIMA Model Results                              \n",
            "==============================================================================\n",
            "Dep. Variable:             D.Terakhir   No. Observations:                  126\n",
            "Model:                 ARIMA(0, 1, 1)   Log Likelihood                  96.829\n",
            "Method:                       css-mle   S.D. of innovations              0.112\n",
            "Date:                Sat, 11 Jun 2022   AIC                           -187.659\n",
            "Time:                        06:15:49   BIC                           -179.150\n",
            "Sample:                             1   HQIC                          -184.202\n",
            "                                                                              \n",
            "====================================================================================\n",
            "                       coef    std err          z      P>|z|      [0.025      0.975]\n",
            "------------------------------------------------------------------------------------\n",
            "const                0.0056      0.007      0.752      0.454      -0.009       0.020\n",
            "ma.L1.D.Terakhir    -0.2617      0.075     -3.495      0.001      -0.408      -0.115\n",
            "                                    Roots                                    \n",
            "=============================================================================\n",
            "                  Real          Imaginary           Modulus         Frequency\n",
            "-----------------------------------------------------------------------------\n",
            "MA.1            3.8216           +0.0000j            3.8216            0.0000\n",
            "-----------------------------------------------------------------------------\n"
          ]
        },
        {
          "output_type": "stream",
          "name": "stderr",
          "text": [
            "/usr/local/lib/python3.7/dist-packages/statsmodels/tsa/base/tsa_model.py:219: ValueWarning: A date index has been provided, but it has no associated frequency information and so will be ignored when e.g. forecasting.\n",
            "  ' ignored when e.g. forecasting.', ValueWarning)\n",
            "/usr/local/lib/python3.7/dist-packages/statsmodels/tsa/base/tsa_model.py:219: ValueWarning: A date index has been provided, but it has no associated frequency information and so will be ignored when e.g. forecasting.\n",
            "  ' ignored when e.g. forecasting.', ValueWarning)\n"
          ]
        }
      ]
    },
    {
      "cell_type": "code",
      "source": [
        "#ARIMA(1,1,1) \n",
        "model3=ARIMA(dataarima,order=(1,1,1))\n",
        "model3_fit=model3.fit()\n",
        "print(model3_fit.summary())"
      ],
      "metadata": {
        "colab": {
          "base_uri": "https://localhost:8080/"
        },
        "id": "ZBj0j9LI5Xpc",
        "outputId": "143e2a6b-2e7c-4e15-85bd-32cfa687f5eb"
      },
      "execution_count": 28,
      "outputs": [
        {
          "output_type": "stream",
          "name": "stdout",
          "text": [
            "                             ARIMA Model Results                              \n",
            "==============================================================================\n",
            "Dep. Variable:             D.Terakhir   No. Observations:                  126\n",
            "Model:                 ARIMA(1, 1, 1)   Log Likelihood                  97.679\n",
            "Method:                       css-mle   S.D. of innovations              0.111\n",
            "Date:                Sat, 11 Jun 2022   AIC                           -187.358\n",
            "Time:                        06:15:55   BIC                           -176.012\n",
            "Sample:                             1   HQIC                          -182.748\n",
            "                                                                              \n",
            "====================================================================================\n",
            "                       coef    std err          z      P>|z|      [0.025      0.975]\n",
            "------------------------------------------------------------------------------------\n",
            "const                0.0055      0.008      0.719      0.474      -0.010       0.021\n",
            "ar.L1.D.Terakhir    -0.3236      0.225     -1.439      0.153      -0.764       0.117\n",
            "ma.L1.D.Terakhir     0.0210      0.232      0.090      0.928      -0.434       0.476\n",
            "                                    Roots                                    \n",
            "=============================================================================\n",
            "                  Real          Imaginary           Modulus         Frequency\n",
            "-----------------------------------------------------------------------------\n",
            "AR.1           -3.0902           +0.0000j            3.0902            0.5000\n",
            "MA.1          -47.7078           +0.0000j           47.7078            0.5000\n",
            "-----------------------------------------------------------------------------\n"
          ]
        },
        {
          "output_type": "stream",
          "name": "stderr",
          "text": [
            "/usr/local/lib/python3.7/dist-packages/statsmodels/tsa/base/tsa_model.py:219: ValueWarning: A date index has been provided, but it has no associated frequency information and so will be ignored when e.g. forecasting.\n",
            "  ' ignored when e.g. forecasting.', ValueWarning)\n",
            "/usr/local/lib/python3.7/dist-packages/statsmodels/tsa/base/tsa_model.py:219: ValueWarning: A date index has been provided, but it has no associated frequency information and so will be ignored when e.g. forecasting.\n",
            "  ' ignored when e.g. forecasting.', ValueWarning)\n"
          ]
        }
      ]
    },
    {
      "cell_type": "code",
      "source": [
        "residual_model1=pd.DataFrame(model1_fit.resid)\n",
        "residual_model2=pd.DataFrame(model2_fit.resid)\n",
        "residual_model3=pd.DataFrame(model3_fit.resid)"
      ],
      "metadata": {
        "id": "CY7658u45dwm"
      },
      "execution_count": 30,
      "outputs": []
    },
    {
      "cell_type": "code",
      "source": [
        "#Uji Normalitas dg shapiro\n",
        "#MODEL 1\n",
        "from scipy.stats import shapiro\n",
        "shapiro1=shapiro(residual_model1)\n",
        "dict(zip(['statistic', 'p-value'],shapiro1))"
      ],
      "metadata": {
        "colab": {
          "base_uri": "https://localhost:8080/"
        },
        "id": "zXomc60X5hXI",
        "outputId": "67217137-29af-4db9-bb8a-0e74cc9accc1"
      },
      "execution_count": 31,
      "outputs": [
        {
          "output_type": "execute_result",
          "data": {
            "text/plain": [
              "{'p-value': 0.00011271398398093879, 'statistic': 0.9484848976135254}"
            ]
          },
          "metadata": {},
          "execution_count": 31
        }
      ]
    },
    {
      "cell_type": "code",
      "source": [
        "#MODEL 2\n",
        "shapiro2=shapiro(residual_model2)\n",
        "dict(zip(['statistic', 'p-value'],shapiro2))"
      ],
      "metadata": {
        "colab": {
          "base_uri": "https://localhost:8080/"
        },
        "id": "2GshbOKh5jok",
        "outputId": "b714f710-8f17-4ba9-ce56-28070e3dc1f7"
      },
      "execution_count": 32,
      "outputs": [
        {
          "output_type": "execute_result",
          "data": {
            "text/plain": [
              "{'p-value': 0.000177116715349257, 'statistic': 0.9510918259620667}"
            ]
          },
          "metadata": {},
          "execution_count": 32
        }
      ]
    },
    {
      "cell_type": "code",
      "source": [
        "#MODEL 3\n",
        "shapiro3=shapiro(residual_model3)\n",
        "dict(zip(['statistic', 'p-value'],shapiro3))"
      ],
      "metadata": {
        "colab": {
          "base_uri": "https://localhost:8080/"
        },
        "id": "K9DwRCLD5kIO",
        "outputId": "6b7b88c4-0e96-4e21-ed80-14b3cb4c0cd3"
      },
      "execution_count": 33,
      "outputs": [
        {
          "output_type": "execute_result",
          "data": {
            "text/plain": [
              "{'p-value': 0.00011277187149971724, 'statistic': 0.9484879374504089}"
            ]
          },
          "metadata": {},
          "execution_count": 33
        }
      ]
    },
    {
      "cell_type": "code",
      "source": [
        "#Uji independensi residual\n",
        "import statsmodels.api as sm\n",
        "sm.stats.acorr_ljungbox(residual_model1,lags=(12,24,36,48))"
      ],
      "metadata": {
        "colab": {
          "base_uri": "https://localhost:8080/"
        },
        "id": "1Mys2R8i5phf",
        "outputId": "0232d780-fc12-41b5-ab21-d82e8da42810"
      },
      "execution_count": 34,
      "outputs": [
        {
          "output_type": "execute_result",
          "data": {
            "text/plain": [
              "(array([ 8.98391794, 18.83454972, 27.77142831, 32.76091414]),\n",
              " array([0.70430344, 0.76075457, 0.83524678, 0.95441135]))"
            ]
          },
          "metadata": {},
          "execution_count": 34
        }
      ]
    },
    {
      "cell_type": "code",
      "source": [
        "#Uji independensi residual\n",
        "sm.stats.acorr_ljungbox(residual_model2,lags=(12,24,36,48))"
      ],
      "metadata": {
        "colab": {
          "base_uri": "https://localhost:8080/"
        },
        "id": "Mi3i0xLo5rvQ",
        "outputId": "c1843565-20da-4826-b054-fd75293b7fad"
      },
      "execution_count": 35,
      "outputs": [
        {
          "output_type": "execute_result",
          "data": {
            "text/plain": [
              "(array([10.238133  , 20.59023488, 28.95676513, 33.56875902]),\n",
              " array([0.59507812, 0.66276428, 0.79141046, 0.94333882]))"
            ]
          },
          "metadata": {},
          "execution_count": 35
        }
      ]
    },
    {
      "cell_type": "code",
      "source": [
        "#Uji independensi residual\n",
        "sm.stats.acorr_ljungbox(residual_model3,lags=(12,24,36,48))"
      ],
      "metadata": {
        "colab": {
          "base_uri": "https://localhost:8080/"
        },
        "id": "o_XAcK295sLJ",
        "outputId": "1e09afdc-3328-407c-af27-162ac7ac016c"
      },
      "execution_count": 36,
      "outputs": [
        {
          "output_type": "execute_result",
          "data": {
            "text/plain": [
              "(array([ 8.94911115, 18.77481789, 27.8220034 , 32.85086728]),\n",
              " array([0.70727077, 0.76388952, 0.83348385, 0.95326322]))"
            ]
          },
          "metadata": {},
          "execution_count": 36
        }
      ]
    },
    {
      "cell_type": "code",
      "source": [
        "#Plot model terbaik ARIMA(0,1,1) atau IMA(1,1)\n",
        "# Actual vs Fitted\n",
        "versus=model2_fit.plot_predict(dynamic=False)"
      ],
      "metadata": {
        "colab": {
          "base_uri": "https://localhost:8080/",
          "height": 279
        },
        "id": "iteDROhg5xnU",
        "outputId": "6ab0acd3-b170-4f93-cb4d-2e01323bec75"
      },
      "execution_count": 37,
      "outputs": [
        {
          "output_type": "display_data",
          "data": {
            "text/plain": [
              "<Figure size 432x288 with 1 Axes>"
            ],
            "image/png": "[encoded data removed]"
          },
          "metadata": {
            "needs_background": "light"
          }
        }
      ]
    },
    {
      "cell_type": "code",
      "source": [
        "peramalan=model2_fit.forecast(steps=12)\n",
        "dict(zip(['forecast', 'std.error', 'conf.interval'],peramalan))"
      ],
      "metadata": {
        "colab": {
          "base_uri": "https://localhost:8080/"
        },
        "id": "CvLF64QZ54Jr",
        "outputId": "d6889e35-fc01-4dd6-ef8f-c6f607b264e2"
      },
      "execution_count": 38,
      "outputs": [
        {
          "output_type": "execute_result",
          "data": {
            "text/plain": [
              "{'conf.interval': array([[5.49818568, 5.93789827],\n",
              "        [5.45031546, 5.99689282],\n",
              "        [5.41130372, 6.04702888],\n",
              "        [5.37781596, 6.09164096],\n",
              "        [5.34819823, 6.13238302],\n",
              "        [5.32148695, 6.17021863],\n",
              "        [5.29706236, 6.20576754],\n",
              "        [5.2744979 , 6.23945633],\n",
              "        [5.25348515, 6.27159341],\n",
              "        [5.23379252, 6.30241036],\n",
              "        [5.21524088, 6.33208632],\n",
              "        [5.19768828, 6.36076325]]),\n",
              " 'forecast': array([5.71804198, 5.72360414, 5.7291663 , 5.73472846, 5.74029063,\n",
              "        5.74585279, 5.75141495, 5.75697711, 5.76253928, 5.76810144,\n",
              "        5.7736636 , 5.77922577]),\n",
              " 'std.error': array([0.11217364, 0.13943556, 0.16217776, 0.18210156, 0.20005082,\n",
              "        0.21651716, 0.23181681, 0.24616739, 0.25972627, 0.2726116 ,\n",
              "        0.28491479, 0.29670825])}"
            ]
          },
          "metadata": {},
          "execution_count": 38
        }
      ]
    }
  ]
}